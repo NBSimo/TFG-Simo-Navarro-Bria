{
  "cells": [
    {
      "cell_type": "markdown",
      "metadata": {
        "id": "view-in-github",
        "colab_type": "text"
      },
      "source": [
        "<a href=\"https://colab.research.google.com/github/NBSimo/TFG-Simo-Navarro-Bria/blob/main/TFG_NBSIMO_Classificador_Cacuet_Closca_Hiperespectral.ipynb\" target=\"_parent\"><img src=\"https://colab.research.google.com/assets/colab-badge.svg\" alt=\"Open In Colab\"/></a>"
      ]
    },
    {
      "cell_type": "code",
      "execution_count": null,
      "metadata": {
        "id": "2FRhbSSTTubz"
      },
      "outputs": [],
      "source": [
        "#llibreries necessaries pel programa \n",
        "import tensorflow as tf\n",
        "from keras.layers import Input, Lambda, Dense, Flatten\n",
        "from keras.models import Model\n",
        "from keras.applications.vgg16 import preprocess_input\n",
        "from keras.preprocessing import image\n",
        "from keras.preprocessing.image import ImageDataGenerator\n",
        "from keras.models import Sequential\n",
        "from keras.layers import Conv2D\n",
        "from keras.layers import MaxPool2D\n",
        "import numpy as np\n",
        "from glob import glob\n",
        "import matplotlib.pyplot as plt\n",
        "from sklearn.metrics import confusion_matrix\n",
        "import itertools\n"
      ]
    },
    {
      "cell_type": "code",
      "execution_count": null,
      "metadata": {
        "colab": {
          "base_uri": "https://localhost:8080/"
        },
        "id": "0kmFNmofFQ_5",
        "outputId": "47ea23d0-240a-4804-9a2c-7f07668a0f10"
      },
      "outputs": [
        {
          "output_type": "stream",
          "name": "stdout",
          "text": [
            "Mounted at /content/drive\n"
          ]
        }
      ],
      "source": [
        "#iniciar sessió per l'acces al conjunt d'imatges\n",
        "from google.colab import drive\n",
        "drive.mount('/content/drive', force_remount=True)"
      ]
    },
    {
      "cell_type": "code",
      "execution_count": null,
      "metadata": {
        "id": "zIBQMwnlIJLE"
      },
      "outputs": [],
      "source": [
        "train_path = '/content/drive/MyDrive/Dataset2/training'\n",
        "test_path = '/content/drive/MyDrive/Dataset2/test'\n",
        "valid_path = '/content/drive/MyDrive/Dataset2/validation'\n",
        "\n",
        "IMAGE_SIZE = [100,100]\n",
        "train_datagen = []\n",
        "test_datagen = []"
      ]
    },
    {
      "cell_type": "code",
      "execution_count": null,
      "metadata": {
        "colab": {
          "base_uri": "https://localhost:8080/"
        },
        "id": "0tHSXeH_ZuKR",
        "outputId": "321b1469-80bd-43e7-80e0-ff75ffa3636b"
      },
      "outputs": [
        {
          "output_type": "stream",
          "name": "stdout",
          "text": [
            "Found 100 images belonging to 2 classes.\n",
            "Found 100 images belonging to 2 classes.\n",
            "Found 600 images belonging to 2 classes.\n"
          ]
        }
      ],
      "source": [
        "#fem un pre-procès on analitzem les nostres carpetes del directori i etiquetem com a cacauets i closques les imatges, definint un \n",
        "#utilitzem el model VGG16 per fer aques pre entrenament  que es un modul de classficacio adient\n",
        "#definim el BATCH size a 10\n",
        "#shuffle FALSE\n",
        "train_batches = ImageDataGenerator(preprocessing_function=tf.keras.applications.vgg16.preprocess_input) \\\n",
        "    .flow_from_directory(directory=train_path, target_size=(100,100), classes=['cacauets', 'closques'], batch_size=10)\n",
        "\n",
        "valid_batches = ImageDataGenerator(preprocessing_function=tf.keras.applications.vgg16.preprocess_input) \\\n",
        "    .flow_from_directory(directory=valid_path, target_size=(100,100), classes=['cacauets', 'closques'], batch_size=10)\n",
        "\n",
        "test_batches = ImageDataGenerator(preprocessing_function=tf.keras.applications.vgg16.preprocess_input) \\\n",
        "    .flow_from_directory(directory=test_path, target_size=(100,100), classes=['cacauets', 'closques'], batch_size=10, shuffle=False)"
      ]
    },
    {
      "cell_type": "code",
      "execution_count": null,
      "metadata": {
        "id": "67SPq4-VlnbU"
      },
      "outputs": [],
      "source": [
        "#cridem la funcio next per generar un conjunt de dades aleatories per poder observar les etiquetes  \n",
        "imgs, labels = next(train_batches)"
      ]
    },
    {
      "cell_type": "code",
      "execution_count": null,
      "metadata": {
        "id": "GrzIlQD9lpAo"
      },
      "outputs": [],
      "source": [
        "#codi extret de la scykitlearn\n",
        "def plotImages(images_arr):\n",
        "    fig, axes = plt.subplots(1, 10, figsize=(10,10))\n",
        "    axes = axes.flatten()\n",
        "    for img, ax in zip( images_arr, axes):\n",
        "        ax.imshow(img)\n",
        "        ax.axis('off')\n",
        "    plt.tight_layout()\n",
        "    plt.show()"
      ]
    },
    {
      "cell_type": "code",
      "execution_count": null,
      "metadata": {
        "colab": {
          "base_uri": "https://localhost:8080/",
          "height": 438
        },
        "id": "5SJY3SADlv8I",
        "outputId": "6d27949a-e1c4-422e-8dfc-e3a6f8c6ea06"
      },
      "outputs": [
        {
          "output_type": "stream",
          "name": "stderr",
          "text": [
            "Clipping input data to the valid range for imshow with RGB data ([0..1] for floats or [0..255] for integers).\n",
            "Clipping input data to the valid range for imshow with RGB data ([0..1] for floats or [0..255] for integers).\n",
            "Clipping input data to the valid range for imshow with RGB data ([0..1] for floats or [0..255] for integers).\n",
            "Clipping input data to the valid range for imshow with RGB data ([0..1] for floats or [0..255] for integers).\n",
            "Clipping input data to the valid range for imshow with RGB data ([0..1] for floats or [0..255] for integers).\n",
            "Clipping input data to the valid range for imshow with RGB data ([0..1] for floats or [0..255] for integers).\n",
            "Clipping input data to the valid range for imshow with RGB data ([0..1] for floats or [0..255] for integers).\n",
            "Clipping input data to the valid range for imshow with RGB data ([0..1] for floats or [0..255] for integers).\n",
            "Clipping input data to the valid range for imshow with RGB data ([0..1] for floats or [0..255] for integers).\n",
            "Clipping input data to the valid range for imshow with RGB data ([0..1] for floats or [0..255] for integers).\n"
          ]
        },
        {
          "output_type": "display_data",
          "data": {
            "text/plain": [
              "<Figure size 720x720 with 10 Axes>"
            ],
            "image/png": "[encoded data removed]"
          },
          "metadata": {
            "needs_background": "light"
          }
        },
        {
          "output_type": "stream",
          "name": "stdout",
          "text": [
            "[[0. 1.]\n",
            " [1. 0.]\n",
            " [1. 0.]\n",
            " [1. 0.]\n",
            " [0. 1.]\n",
            " [1. 0.]\n",
            " [0. 1.]\n",
            " [0. 1.]\n",
            " [0. 1.]\n",
            " [0. 1.]]\n"
          ]
        }
      ],
      "source": [
        "#agafem 10 imatges aleatoriers per tal de veure quina etiqueta sels hi dona i si correspon i ho ho fem correctament\n",
        "plotImages(imgs)\n",
        "print(labels)"
      ]
    },
    {
      "cell_type": "code",
      "execution_count": null,
      "metadata": {
        "id": "XXcYJT1oIdTM"
      },
      "outputs": [],
      "source": [
        "#Definim el nostre model secuencial amb 3 capes de convolucio i 3 de maxpooling i filtres de 3x3 de tamany. Es treballa en RGB per la poca quanitat de pixels en la imatge\n",
        "model = Sequential([\n",
        "    Conv2D(filters=32, kernel_size=(3, 3), activation='relu', padding = 'same', input_shape=(100,100,3)),\n",
        "    MaxPool2D(pool_size=(2, 2), strides=2),\n",
        "    Conv2D(filters=64, kernel_size=(3, 3), activation='relu', padding = 'same'),\n",
        "    MaxPool2D(pool_size=(2, 2), strides=2),\n",
        "    Conv2D(filters=64, kernel_size=(3, 3), activation='relu', padding = 'same'),\n",
        "    MaxPool2D(pool_size=(2, 2), strides=2),\n",
        "    Conv2D(filters=128, kernel_size=(3, 3), activation='relu', padding = 'same'),\n",
        "    MaxPool2D(pool_size=(2, 2), strides=2),\n",
        "    Conv2D(filters=128, kernel_size=(3, 3), activation='relu', padding = 'same'),\n",
        "    MaxPool2D(pool_size=(2, 2), strides=2),\n",
        "    Flatten(),\n",
        "    Dense(units=2, activation='softmax')\n",
        "])"
      ]
    },
    {
      "cell_type": "code",
      "execution_count": null,
      "metadata": {
        "colab": {
          "base_uri": "https://localhost:8080/"
        },
        "id": "tBdvatgCNgjj",
        "outputId": "ff983442-c42e-4059-bdf2-925613283a12"
      },
      "outputs": [
        {
          "output_type": "stream",
          "name": "stdout",
          "text": [
            "Model: \"sequential_5\"\n",
            "_________________________________________________________________\n",
            " Layer (type)                Output Shape              Param #   \n",
            "=================================================================\n",
            " conv2d_17 (Conv2D)          (None, 100, 100, 32)      896       \n",
            "                                                                 \n",
            " max_pooling2d_16 (MaxPoolin  (None, 50, 50, 32)       0         \n",
            " g2D)                                                            \n",
            "                                                                 \n",
            " conv2d_18 (Conv2D)          (None, 50, 50, 64)        18496     \n",
            "                                                                 \n",
            " max_pooling2d_17 (MaxPoolin  (None, 25, 25, 64)       0         \n",
            " g2D)                                                            \n",
            "                                                                 \n",
            " conv2d_19 (Conv2D)          (None, 25, 25, 64)        36928     \n",
            "                                                                 \n",
            " max_pooling2d_18 (MaxPoolin  (None, 12, 12, 64)       0         \n",
            " g2D)                                                            \n",
            "                                                                 \n",
            " conv2d_20 (Conv2D)          (None, 12, 12, 128)       73856     \n",
            "                                                                 \n",
            " max_pooling2d_19 (MaxPoolin  (None, 6, 6, 128)        0         \n",
            " g2D)                                                            \n",
            "                                                                 \n",
            " conv2d_21 (Conv2D)          (None, 6, 6, 128)         147584    \n",
            "                                                                 \n",
            " max_pooling2d_20 (MaxPoolin  (None, 3, 3, 128)        0         \n",
            " g2D)                                                            \n",
            "                                                                 \n",
            " flatten_5 (Flatten)         (None, 1152)              0         \n",
            "                                                                 \n",
            " dense_5 (Dense)             (None, 2)                 2306      \n",
            "                                                                 \n",
            "=================================================================\n",
            "Total params: 280,066\n",
            "Trainable params: 280,066\n",
            "Non-trainable params: 0\n",
            "_________________________________________________________________\n"
          ]
        }
      ],
      "source": [
        "model.summary() "
      ]
    },
    {
      "cell_type": "code",
      "execution_count": null,
      "metadata": {
        "id": "nxY29VyiP97N"
      },
      "outputs": [],
      "source": [
        "#utilitzem Adam com a optimitzadorm, categorical corssentropy que ens serveix per veure la probabilitat de pertanyer a un grup o un altre. Avaluem amb la preccisió\n",
        "model.compile(optimizer='Adam', loss='categorical_crossentropy', metrics=['accuracy'])"
      ]
    },
    {
      "cell_type": "code",
      "execution_count": null,
      "metadata": {
        "colab": {
          "base_uri": "https://localhost:8080/"
        },
        "id": "ZJ6KbKTyPmj7",
        "outputId": "589fe09f-037b-4f6b-fb04-e297cafa065b"
      },
      "outputs": [
        {
          "output_type": "stream",
          "name": "stdout",
          "text": [
            "Epoch 1/30\n",
            "10/10 - 1s - loss: 2.9104 - accuracy: 0.7500 - val_loss: 0.0390 - val_accuracy: 0.9900 - 1s/epoch - 120ms/step\n",
            "Epoch 2/30\n",
            "10/10 - 0s - loss: 4.9926e-04 - accuracy: 1.0000 - val_loss: 0.1925 - val_accuracy: 0.9800 - 415ms/epoch - 42ms/step\n",
            "Epoch 3/30\n",
            "10/10 - 0s - loss: 0.1200 - accuracy: 0.9700 - val_loss: 5.7380e-05 - val_accuracy: 1.0000 - 426ms/epoch - 43ms/step\n",
            "Epoch 4/30\n",
            "10/10 - 0s - loss: 0.0251 - accuracy: 0.9900 - val_loss: 0.0023 - val_accuracy: 1.0000 - 407ms/epoch - 41ms/step\n",
            "Epoch 5/30\n",
            "10/10 - 0s - loss: 7.6054e-07 - accuracy: 1.0000 - val_loss: 0.2571 - val_accuracy: 0.9800 - 414ms/epoch - 41ms/step\n",
            "Epoch 6/30\n",
            "10/10 - 0s - loss: 0.1278 - accuracy: 0.9900 - val_loss: 8.2468e-04 - val_accuracy: 1.0000 - 406ms/epoch - 41ms/step\n",
            "Epoch 7/30\n",
            "10/10 - 0s - loss: 1.8202e-05 - accuracy: 1.0000 - val_loss: 0.3247 - val_accuracy: 0.9700 - 443ms/epoch - 44ms/step\n",
            "Epoch 8/30\n",
            "10/10 - 0s - loss: 0.0144 - accuracy: 0.9900 - val_loss: 0.1618 - val_accuracy: 0.9800 - 431ms/epoch - 43ms/step\n",
            "Epoch 9/30\n",
            "10/10 - 0s - loss: 0.2326 - accuracy: 0.9800 - val_loss: 0.0859 - val_accuracy: 0.9800 - 422ms/epoch - 42ms/step\n",
            "Epoch 10/30\n",
            "10/10 - 0s - loss: 0.1310 - accuracy: 0.9900 - val_loss: 0.0000e+00 - val_accuracy: 1.0000 - 435ms/epoch - 43ms/step\n",
            "Epoch 11/30\n",
            "10/10 - 0s - loss: 0.0000e+00 - accuracy: 1.0000 - val_loss: 0.0000e+00 - val_accuracy: 1.0000 - 412ms/epoch - 41ms/step\n",
            "Epoch 12/30\n",
            "10/10 - 0s - loss: 0.0000e+00 - accuracy: 1.0000 - val_loss: 0.0000e+00 - val_accuracy: 1.0000 - 414ms/epoch - 41ms/step\n",
            "Epoch 13/30\n",
            "10/10 - 0s - loss: 0.0000e+00 - accuracy: 1.0000 - val_loss: 0.0000e+00 - val_accuracy: 1.0000 - 407ms/epoch - 41ms/step\n",
            "Epoch 14/30\n",
            "10/10 - 0s - loss: 0.0000e+00 - accuracy: 1.0000 - val_loss: 0.0000e+00 - val_accuracy: 1.0000 - 410ms/epoch - 41ms/step\n",
            "Epoch 15/30\n",
            "10/10 - 0s - loss: 0.0000e+00 - accuracy: 1.0000 - val_loss: 1.1921e-09 - val_accuracy: 1.0000 - 405ms/epoch - 40ms/step\n",
            "Epoch 16/30\n",
            "10/10 - 0s - loss: 0.0000e+00 - accuracy: 1.0000 - val_loss: 1.1921e-09 - val_accuracy: 1.0000 - 410ms/epoch - 41ms/step\n",
            "Epoch 17/30\n",
            "10/10 - 0s - loss: 0.0000e+00 - accuracy: 1.0000 - val_loss: 1.1921e-09 - val_accuracy: 1.0000 - 412ms/epoch - 41ms/step\n",
            "Epoch 18/30\n",
            "10/10 - 0s - loss: 0.0000e+00 - accuracy: 1.0000 - val_loss: 1.1921e-09 - val_accuracy: 1.0000 - 403ms/epoch - 40ms/step\n",
            "Epoch 19/30\n",
            "10/10 - 0s - loss: 0.0000e+00 - accuracy: 1.0000 - val_loss: 1.1921e-09 - val_accuracy: 1.0000 - 408ms/epoch - 41ms/step\n",
            "Epoch 20/30\n",
            "10/10 - 0s - loss: 0.0000e+00 - accuracy: 1.0000 - val_loss: 1.1921e-09 - val_accuracy: 1.0000 - 395ms/epoch - 40ms/step\n",
            "Epoch 21/30\n",
            "10/10 - 0s - loss: 0.0000e+00 - accuracy: 1.0000 - val_loss: 1.1921e-09 - val_accuracy: 1.0000 - 413ms/epoch - 41ms/step\n",
            "Epoch 22/30\n",
            "10/10 - 0s - loss: 0.0000e+00 - accuracy: 1.0000 - val_loss: 1.1921e-09 - val_accuracy: 1.0000 - 435ms/epoch - 44ms/step\n",
            "Epoch 23/30\n",
            "10/10 - 0s - loss: 0.0000e+00 - accuracy: 1.0000 - val_loss: 1.1921e-09 - val_accuracy: 1.0000 - 405ms/epoch - 40ms/step\n",
            "Epoch 24/30\n",
            "10/10 - 0s - loss: 0.0000e+00 - accuracy: 1.0000 - val_loss: 1.1921e-09 - val_accuracy: 1.0000 - 411ms/epoch - 41ms/step\n",
            "Epoch 25/30\n",
            "10/10 - 0s - loss: 0.0000e+00 - accuracy: 1.0000 - val_loss: 1.1921e-09 - val_accuracy: 1.0000 - 400ms/epoch - 40ms/step\n",
            "Epoch 26/30\n",
            "10/10 - 0s - loss: 0.0000e+00 - accuracy: 1.0000 - val_loss: 1.1921e-09 - val_accuracy: 1.0000 - 402ms/epoch - 40ms/step\n",
            "Epoch 27/30\n",
            "10/10 - 0s - loss: 0.0000e+00 - accuracy: 1.0000 - val_loss: 1.1921e-09 - val_accuracy: 1.0000 - 430ms/epoch - 43ms/step\n",
            "Epoch 28/30\n",
            "10/10 - 0s - loss: 0.0000e+00 - accuracy: 1.0000 - val_loss: 1.1921e-09 - val_accuracy: 1.0000 - 406ms/epoch - 41ms/step\n",
            "Epoch 29/30\n",
            "10/10 - 0s - loss: 0.0000e+00 - accuracy: 1.0000 - val_loss: 1.1921e-09 - val_accuracy: 1.0000 - 406ms/epoch - 41ms/step\n",
            "Epoch 30/30\n",
            "10/10 - 0s - loss: 0.0000e+00 - accuracy: 1.0000 - val_loss: 1.1921e-09 - val_accuracy: 1.0000 - 408ms/epoch - 41ms/step\n"
          ]
        },
        {
          "output_type": "execute_result",
          "data": {
            "text/plain": [
              "<keras.callbacks.History at 0x7f42f647e4d0>"
            ]
          },
          "metadata": {},
          "execution_count": 60
        }
      ],
      "source": [
        "model.fit(x=train_batches,\n",
        "    steps_per_epoch=len(train_batches),\n",
        "    validation_data=valid_batches,\n",
        "    validation_steps=len(valid_batches),\n",
        "    epochs=30,\n",
        "    verbose=2\n",
        ")"
      ]
    },
    {
      "cell_type": "code",
      "source": [
        "test_imgs, test_labels = next(test_batches)"
      ],
      "metadata": {
        "id": "lHB8MLViy5DN"
      },
      "execution_count": null,
      "outputs": []
    },
    {
      "cell_type": "code",
      "source": [
        "plotImages(test_imgs)\n",
        "print(test_labels)"
      ],
      "metadata": {
        "colab": {
          "base_uri": "https://localhost:8080/",
          "height": 438
        },
        "id": "fzOhe68-y81H",
        "outputId": "c68ef0f7-c379-4b09-a6f6-fa632358b944"
      },
      "execution_count": null,
      "outputs": [
        {
          "output_type": "stream",
          "name": "stderr",
          "text": [
            "Clipping input data to the valid range for imshow with RGB data ([0..1] for floats or [0..255] for integers).\n",
            "Clipping input data to the valid range for imshow with RGB data ([0..1] for floats or [0..255] for integers).\n",
            "Clipping input data to the valid range for imshow with RGB data ([0..1] for floats or [0..255] for integers).\n",
            "Clipping input data to the valid range for imshow with RGB data ([0..1] for floats or [0..255] for integers).\n",
            "Clipping input data to the valid range for imshow with RGB data ([0..1] for floats or [0..255] for integers).\n",
            "Clipping input data to the valid range for imshow with RGB data ([0..1] for floats or [0..255] for integers).\n",
            "Clipping input data to the valid range for imshow with RGB data ([0..1] for floats or [0..255] for integers).\n",
            "Clipping input data to the valid range for imshow with RGB data ([0..1] for floats or [0..255] for integers).\n",
            "Clipping input data to the valid range for imshow with RGB data ([0..1] for floats or [0..255] for integers).\n",
            "Clipping input data to the valid range for imshow with RGB data ([0..1] for floats or [0..255] for integers).\n"
          ]
        },
        {
          "output_type": "display_data",
          "data": {
            "text/plain": [
              "<Figure size 720x720 with 10 Axes>"
            ],
            "image/png": "[encoded data removed]"
          },
          "metadata": {
            "needs_background": "light"
          }
        },
        {
          "output_type": "stream",
          "name": "stdout",
          "text": [
            "[[1. 0.]\n",
            " [1. 0.]\n",
            " [1. 0.]\n",
            " [1. 0.]\n",
            " [1. 0.]\n",
            " [1. 0.]\n",
            " [1. 0.]\n",
            " [1. 0.]\n",
            " [1. 0.]\n",
            " [1. 0.]]\n"
          ]
        }
      ]
    },
    {
      "cell_type": "code",
      "source": [
        "predictions = model.predict(x=test_batches, steps=len(test_batches), verbose=0)"
      ],
      "metadata": {
        "id": "iJeGZGmfy_Gl"
      },
      "execution_count": null,
      "outputs": []
    },
    {
      "cell_type": "code",
      "source": [
        "np.round(predictions)"
      ],
      "metadata": {
        "colab": {
          "base_uri": "https://localhost:8080/"
        },
        "id": "TFKDlHfRzCVl",
        "outputId": "20b24bd4-99ed-4938-c201-eaa0ff636009"
      },
      "execution_count": null,
      "outputs": [
        {
          "output_type": "execute_result",
          "data": {
            "text/plain": [
              "array([[1., 0.],\n",
              "       [1., 0.],\n",
              "       [1., 0.],\n",
              "       ...,\n",
              "       [0., 1.],\n",
              "       [0., 1.],\n",
              "       [0., 1.]], dtype=float32)"
            ]
          },
          "metadata": {},
          "execution_count": 64
        }
      ]
    },
    {
      "cell_type": "code",
      "source": [
        "#Codi extret directe de la web de Scikit learn\n",
        "def plot_confusion_matrix(cm, classes,\n",
        "                        normalize=False,\n",
        "                        title='Confusion matrix',\n",
        "                        cmap=plt.cm.Blues):\n",
        "    \"\"\"\n",
        "    This function prints and plots the confusion matrix.\n",
        "    Normalization can be applied by setting `normalize=True`.\n",
        "    \"\"\"\n",
        "    plt.imshow(cm, interpolation='nearest', cmap=cmap)\n",
        "    plt.title(title)\n",
        "    plt.colorbar()\n",
        "    tick_marks = np.arange(len(classes))\n",
        "    plt.xticks(tick_marks, classes, rotation=45)\n",
        "    plt.yticks(tick_marks, classes)\n",
        "\n",
        "    if normalize:\n",
        "        cm = cm.astype('float') / cm.sum(axis=1)[:, np.newaxis]\n",
        "        print(\"Normalized confusion matrix\")\n",
        "    else:\n",
        "        print('Confusion matrix, without normalization')\n",
        "\n",
        "    print(cm)\n",
        "\n",
        "    thresh = cm.max() / 2.\n",
        "    for i, j in itertools.product(range(cm.shape[0]), range(cm.shape[1])):\n",
        "        plt.text(j, i, cm[i, j],\n",
        "            horizontalalignment=\"center\",\n",
        "            color=\"white\" if cm[i, j] > thresh else \"black\")\n",
        "\n",
        "    plt.tight_layout()\n",
        "    plt.ylabel('True label')\n",
        "    plt.xlabel('Predicted label')"
      ],
      "metadata": {
        "id": "HNltde1xSlhZ"
      },
      "execution_count": null,
      "outputs": []
    },
    {
      "cell_type": "code",
      "source": [
        "cm = confusion_matrix(y_true=test_batches.classes, y_pred=np.argmax(predictions, axis=-1))\n",
        "cm_plot_labels = ['Cacuets','Closques']\n",
        "plot_confusion_matrix(cm=cm, classes=cm_plot_labels, title='Confusion Matrix')"
      ],
      "metadata": {
        "colab": {
          "base_uri": "https://localhost:8080/",
          "height": 363
        },
        "id": "WrUJgK042uu5",
        "outputId": "654eb38d-5f75-4ab8-ccf1-8c7ac4b23715"
      },
      "execution_count": null,
      "outputs": [
        {
          "output_type": "stream",
          "name": "stdout",
          "text": [
            "Confusion matrix, without normalization\n",
            "[[300   0]\n",
            " [  0 300]]\n"
          ]
        },
        {
          "output_type": "display_data",
          "data": {
            "text/plain": [
              "<Figure size 432x288 with 2 Axes>"
            ],
            "image/png": "[encoded data removed]"
          },
          "metadata": {
            "needs_background": "light"
          }
        }
      ]
    }
  ],
  "metadata": {
    "accelerator": "GPU",
    "colab": {
      "name": "TFG_NBSIMO_Classificador_Cacuet_Closca_Hiperespectral",
      "provenance": [],
      "collapsed_sections": [],
      "mount_file_id": "1pN91tXAzsJPO1MgTeybt3QurQV6hJMgb",
      "authorship_tag": "ABX9TyMZkKimazxELftCHNaL6otk",
      "include_colab_link": true
    },
    "kernelspec": {
      "display_name": "Python 3",
      "name": "python3"
    },
    "language_info": {
      "name": "python"
    }
  },
  "nbformat": 4,
  "nbformat_minor": 0
}